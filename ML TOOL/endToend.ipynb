{
  "cells": [
    {
      "cell_type": "code",
      "execution_count": 3,
      "metadata": {
        "id": "xsXZWJS_QmuT"
      },
      "outputs": [],
      "source": [
        "import numpy as np\n",
        "import pandas as pd"
      ]
    },
    {
      "cell_type": "code",
      "execution_count": 4,
      "metadata": {
        "id": "ZfiURizKTbxI"
      },
      "outputs": [],
      "source": [
        "df = pd.read_csv(r'D:\\Python\\ML\\100 Days of ML\\CSV Files\\placement.csv')"
      ]
    },
    {
      "cell_type": "code",
      "execution_count": 5,
      "metadata": {
        "colab": {
          "base_uri": "https://localhost:8080/",
          "height": 206
        },
        "id": "4V9NfPHgUp1b",
        "outputId": "d9710e09-fbbe-4562-d3d0-f2acaf43680d"
      },
      "outputs": [
        {
          "data": {
            "text/html": [
              "<div>\n",
              "<style scoped>\n",
              "    .dataframe tbody tr th:only-of-type {\n",
              "        vertical-align: middle;\n",
              "    }\n",
              "\n",
              "    .dataframe tbody tr th {\n",
              "        vertical-align: top;\n",
              "    }\n",
              "\n",
              "    .dataframe thead th {\n",
              "        text-align: right;\n",
              "    }\n",
              "</style>\n",
              "<table border=\"1\" class=\"dataframe\">\n",
              "  <thead>\n",
              "    <tr style=\"text-align: right;\">\n",
              "      <th></th>\n",
              "      <th>Unnamed: 0</th>\n",
              "      <th>cgpa</th>\n",
              "      <th>iq</th>\n",
              "      <th>placement</th>\n",
              "    </tr>\n",
              "  </thead>\n",
              "  <tbody>\n",
              "    <tr>\n",
              "      <th>0</th>\n",
              "      <td>0</td>\n",
              "      <td>6.8</td>\n",
              "      <td>123.0</td>\n",
              "      <td>1</td>\n",
              "    </tr>\n",
              "    <tr>\n",
              "      <th>1</th>\n",
              "      <td>1</td>\n",
              "      <td>5.9</td>\n",
              "      <td>106.0</td>\n",
              "      <td>0</td>\n",
              "    </tr>\n",
              "    <tr>\n",
              "      <th>2</th>\n",
              "      <td>2</td>\n",
              "      <td>5.3</td>\n",
              "      <td>121.0</td>\n",
              "      <td>0</td>\n",
              "    </tr>\n",
              "    <tr>\n",
              "      <th>3</th>\n",
              "      <td>3</td>\n",
              "      <td>7.4</td>\n",
              "      <td>132.0</td>\n",
              "      <td>1</td>\n",
              "    </tr>\n",
              "    <tr>\n",
              "      <th>4</th>\n",
              "      <td>4</td>\n",
              "      <td>5.8</td>\n",
              "      <td>142.0</td>\n",
              "      <td>0</td>\n",
              "    </tr>\n",
              "  </tbody>\n",
              "</table>\n",
              "</div>"
            ],
            "text/plain": [
              "   Unnamed: 0  cgpa     iq  placement\n",
              "0           0   6.8  123.0          1\n",
              "1           1   5.9  106.0          0\n",
              "2           2   5.3  121.0          0\n",
              "3           3   7.4  132.0          1\n",
              "4           4   5.8  142.0          0"
            ]
          },
          "execution_count": 5,
          "metadata": {},
          "output_type": "execute_result"
        }
      ],
      "source": [
        "df.head()"
      ]
    },
    {
      "cell_type": "code",
      "execution_count": 6,
      "metadata": {
        "id": "yAUVTj4XUuaw"
      },
      "outputs": [],
      "source": [
        "df=df.iloc[:,1:]"
      ]
    },
    {
      "cell_type": "code",
      "execution_count": 7,
      "metadata": {
        "colab": {
          "base_uri": "https://localhost:8080/",
          "height": 206
        },
        "id": "kkICj5pjV-uU",
        "outputId": "95fd8d5c-2752-41d5-a3f3-0f2796a0553c"
      },
      "outputs": [
        {
          "data": {
            "text/html": [
              "<div>\n",
              "<style scoped>\n",
              "    .dataframe tbody tr th:only-of-type {\n",
              "        vertical-align: middle;\n",
              "    }\n",
              "\n",
              "    .dataframe tbody tr th {\n",
              "        vertical-align: top;\n",
              "    }\n",
              "\n",
              "    .dataframe thead th {\n",
              "        text-align: right;\n",
              "    }\n",
              "</style>\n",
              "<table border=\"1\" class=\"dataframe\">\n",
              "  <thead>\n",
              "    <tr style=\"text-align: right;\">\n",
              "      <th></th>\n",
              "      <th>cgpa</th>\n",
              "      <th>iq</th>\n",
              "      <th>placement</th>\n",
              "    </tr>\n",
              "  </thead>\n",
              "  <tbody>\n",
              "    <tr>\n",
              "      <th>0</th>\n",
              "      <td>6.8</td>\n",
              "      <td>123.0</td>\n",
              "      <td>1</td>\n",
              "    </tr>\n",
              "    <tr>\n",
              "      <th>1</th>\n",
              "      <td>5.9</td>\n",
              "      <td>106.0</td>\n",
              "      <td>0</td>\n",
              "    </tr>\n",
              "    <tr>\n",
              "      <th>2</th>\n",
              "      <td>5.3</td>\n",
              "      <td>121.0</td>\n",
              "      <td>0</td>\n",
              "    </tr>\n",
              "    <tr>\n",
              "      <th>3</th>\n",
              "      <td>7.4</td>\n",
              "      <td>132.0</td>\n",
              "      <td>1</td>\n",
              "    </tr>\n",
              "    <tr>\n",
              "      <th>4</th>\n",
              "      <td>5.8</td>\n",
              "      <td>142.0</td>\n",
              "      <td>0</td>\n",
              "    </tr>\n",
              "  </tbody>\n",
              "</table>\n",
              "</div>"
            ],
            "text/plain": [
              "   cgpa     iq  placement\n",
              "0   6.8  123.0          1\n",
              "1   5.9  106.0          0\n",
              "2   5.3  121.0          0\n",
              "3   7.4  132.0          1\n",
              "4   5.8  142.0          0"
            ]
          },
          "execution_count": 7,
          "metadata": {},
          "output_type": "execute_result"
        }
      ],
      "source": [
        "df.head()"
      ]
    },
    {
      "cell_type": "code",
      "execution_count": 8,
      "metadata": {
        "id": "svQWtScmWEZE"
      },
      "outputs": [],
      "source": [
        "x = df.iloc[:,0:2]\n",
        "y = df.iloc[:,-1]"
      ]
    },
    {
      "cell_type": "code",
      "execution_count": 9,
      "metadata": {
        "colab": {
          "base_uri": "https://localhost:8080/",
          "height": 423
        },
        "id": "Ic7ShuN3WWRc",
        "outputId": "b43d95d7-a273-4e43-f93f-7359b1921bac"
      },
      "outputs": [
        {
          "data": {
            "text/html": [
              "<div>\n",
              "<style scoped>\n",
              "    .dataframe tbody tr th:only-of-type {\n",
              "        vertical-align: middle;\n",
              "    }\n",
              "\n",
              "    .dataframe tbody tr th {\n",
              "        vertical-align: top;\n",
              "    }\n",
              "\n",
              "    .dataframe thead th {\n",
              "        text-align: right;\n",
              "    }\n",
              "</style>\n",
              "<table border=\"1\" class=\"dataframe\">\n",
              "  <thead>\n",
              "    <tr style=\"text-align: right;\">\n",
              "      <th></th>\n",
              "      <th>cgpa</th>\n",
              "      <th>iq</th>\n",
              "    </tr>\n",
              "  </thead>\n",
              "  <tbody>\n",
              "    <tr>\n",
              "      <th>0</th>\n",
              "      <td>6.8</td>\n",
              "      <td>123.0</td>\n",
              "    </tr>\n",
              "    <tr>\n",
              "      <th>1</th>\n",
              "      <td>5.9</td>\n",
              "      <td>106.0</td>\n",
              "    </tr>\n",
              "    <tr>\n",
              "      <th>2</th>\n",
              "      <td>5.3</td>\n",
              "      <td>121.0</td>\n",
              "    </tr>\n",
              "    <tr>\n",
              "      <th>3</th>\n",
              "      <td>7.4</td>\n",
              "      <td>132.0</td>\n",
              "    </tr>\n",
              "    <tr>\n",
              "      <th>4</th>\n",
              "      <td>5.8</td>\n",
              "      <td>142.0</td>\n",
              "    </tr>\n",
              "    <tr>\n",
              "      <th>...</th>\n",
              "      <td>...</td>\n",
              "      <td>...</td>\n",
              "    </tr>\n",
              "    <tr>\n",
              "      <th>95</th>\n",
              "      <td>4.3</td>\n",
              "      <td>200.0</td>\n",
              "    </tr>\n",
              "    <tr>\n",
              "      <th>96</th>\n",
              "      <td>4.4</td>\n",
              "      <td>42.0</td>\n",
              "    </tr>\n",
              "    <tr>\n",
              "      <th>97</th>\n",
              "      <td>6.7</td>\n",
              "      <td>182.0</td>\n",
              "    </tr>\n",
              "    <tr>\n",
              "      <th>98</th>\n",
              "      <td>6.3</td>\n",
              "      <td>103.0</td>\n",
              "    </tr>\n",
              "    <tr>\n",
              "      <th>99</th>\n",
              "      <td>6.2</td>\n",
              "      <td>113.0</td>\n",
              "    </tr>\n",
              "  </tbody>\n",
              "</table>\n",
              "<p>100 rows × 2 columns</p>\n",
              "</div>"
            ],
            "text/plain": [
              "    cgpa     iq\n",
              "0    6.8  123.0\n",
              "1    5.9  106.0\n",
              "2    5.3  121.0\n",
              "3    7.4  132.0\n",
              "4    5.8  142.0\n",
              "..   ...    ...\n",
              "95   4.3  200.0\n",
              "96   4.4   42.0\n",
              "97   6.7  182.0\n",
              "98   6.3  103.0\n",
              "99   6.2  113.0\n",
              "\n",
              "[100 rows x 2 columns]"
            ]
          },
          "execution_count": 9,
          "metadata": {},
          "output_type": "execute_result"
        }
      ],
      "source": [
        "x"
      ]
    },
    {
      "cell_type": "code",
      "execution_count": 10,
      "metadata": {
        "colab": {
          "base_uri": "https://localhost:8080/"
        },
        "id": "KLepi6QQWWrz",
        "outputId": "2ffac44b-ed53-47fe-e6a9-bf33269c1337"
      },
      "outputs": [
        {
          "data": {
            "text/plain": [
              "0     1\n",
              "1     0\n",
              "2     0\n",
              "3     1\n",
              "4     0\n",
              "     ..\n",
              "95    0\n",
              "96    0\n",
              "97    1\n",
              "98    1\n",
              "99    1\n",
              "Name: placement, Length: 100, dtype: int64"
            ]
          },
          "execution_count": 10,
          "metadata": {},
          "output_type": "execute_result"
        }
      ],
      "source": [
        "y"
      ]
    },
    {
      "cell_type": "code",
      "execution_count": 11,
      "metadata": {
        "colab": {
          "base_uri": "https://localhost:8080/"
        },
        "id": "h9r-jbI4WoRg",
        "outputId": "80d6cf1f-2a44-4215-c49f-1467f0443a9d"
      },
      "outputs": [
        {
          "name": "stdout",
          "output_type": "stream",
          "text": [
            "Defaulting to user installation because normal site-packages is not writeable\n",
            "Requirement already satisfied: scikit-learn in c:\\users\\pradeep patel\\appdata\\roaming\\python\\python311\\site-packages (1.2.2)\n",
            "Requirement already satisfied: numpy>=1.17.3 in c:\\users\\pradeep patel\\appdata\\roaming\\python\\python311\\site-packages (from scikit-learn) (1.24.2)\n",
            "Requirement already satisfied: scipy>=1.3.2 in c:\\users\\pradeep patel\\appdata\\roaming\\python\\python311\\site-packages (from scikit-learn) (1.10.1)\n",
            "Requirement already satisfied: joblib>=1.1.1 in c:\\users\\pradeep patel\\appdata\\roaming\\python\\python311\\site-packages (from scikit-learn) (1.2.0)\n",
            "Requirement already satisfied: threadpoolctl>=2.0.0 in c:\\users\\pradeep patel\\appdata\\roaming\\python\\python311\\site-packages (from scikit-learn) (3.1.0)\n"
          ]
        }
      ],
      "source": [
        "!pip install -U scikit-learn"
      ]
    },
    {
      "cell_type": "code",
      "execution_count": 12,
      "metadata": {
        "id": "-kH8i6C_WXGy"
      },
      "outputs": [],
      "source": [
        "from sklearn.model_selection import train_test_split"
      ]
    },
    {
      "cell_type": "code",
      "execution_count": 13,
      "metadata": {
        "id": "cuphMV7dWkkG"
      },
      "outputs": [],
      "source": [
        "x_train,x_test,y_train,y_test = train_test_split(x,y,test_size =0.1)"
      ]
    },
    {
      "cell_type": "code",
      "execution_count": 14,
      "metadata": {
        "colab": {
          "base_uri": "https://localhost:8080/",
          "height": 423
        },
        "id": "6aM-bM50ZIyB",
        "outputId": "d24db557-9d1f-4ea3-d6c0-cd82d4f1c673"
      },
      "outputs": [
        {
          "data": {
            "text/html": [
              "<div>\n",
              "<style scoped>\n",
              "    .dataframe tbody tr th:only-of-type {\n",
              "        vertical-align: middle;\n",
              "    }\n",
              "\n",
              "    .dataframe tbody tr th {\n",
              "        vertical-align: top;\n",
              "    }\n",
              "\n",
              "    .dataframe thead th {\n",
              "        text-align: right;\n",
              "    }\n",
              "</style>\n",
              "<table border=\"1\" class=\"dataframe\">\n",
              "  <thead>\n",
              "    <tr style=\"text-align: right;\">\n",
              "      <th></th>\n",
              "      <th>cgpa</th>\n",
              "      <th>iq</th>\n",
              "    </tr>\n",
              "  </thead>\n",
              "  <tbody>\n",
              "    <tr>\n",
              "      <th>36</th>\n",
              "      <td>5.7</td>\n",
              "      <td>140.0</td>\n",
              "    </tr>\n",
              "    <tr>\n",
              "      <th>25</th>\n",
              "      <td>5.0</td>\n",
              "      <td>91.0</td>\n",
              "    </tr>\n",
              "    <tr>\n",
              "      <th>37</th>\n",
              "      <td>8.1</td>\n",
              "      <td>149.0</td>\n",
              "    </tr>\n",
              "    <tr>\n",
              "      <th>72</th>\n",
              "      <td>7.3</td>\n",
              "      <td>116.0</td>\n",
              "    </tr>\n",
              "    <tr>\n",
              "      <th>97</th>\n",
              "      <td>6.7</td>\n",
              "      <td>182.0</td>\n",
              "    </tr>\n",
              "    <tr>\n",
              "      <th>...</th>\n",
              "      <td>...</td>\n",
              "      <td>...</td>\n",
              "    </tr>\n",
              "    <tr>\n",
              "      <th>7</th>\n",
              "      <td>5.0</td>\n",
              "      <td>63.0</td>\n",
              "    </tr>\n",
              "    <tr>\n",
              "      <th>78</th>\n",
              "      <td>6.1</td>\n",
              "      <td>81.0</td>\n",
              "    </tr>\n",
              "    <tr>\n",
              "      <th>84</th>\n",
              "      <td>5.7</td>\n",
              "      <td>169.0</td>\n",
              "    </tr>\n",
              "    <tr>\n",
              "      <th>33</th>\n",
              "      <td>6.0</td>\n",
              "      <td>149.0</td>\n",
              "    </tr>\n",
              "    <tr>\n",
              "      <th>48</th>\n",
              "      <td>6.6</td>\n",
              "      <td>138.0</td>\n",
              "    </tr>\n",
              "  </tbody>\n",
              "</table>\n",
              "<p>90 rows × 2 columns</p>\n",
              "</div>"
            ],
            "text/plain": [
              "    cgpa     iq\n",
              "36   5.7  140.0\n",
              "25   5.0   91.0\n",
              "37   8.1  149.0\n",
              "72   7.3  116.0\n",
              "97   6.7  182.0\n",
              "..   ...    ...\n",
              "7    5.0   63.0\n",
              "78   6.1   81.0\n",
              "84   5.7  169.0\n",
              "33   6.0  149.0\n",
              "48   6.6  138.0\n",
              "\n",
              "[90 rows x 2 columns]"
            ]
          },
          "execution_count": 14,
          "metadata": {},
          "output_type": "execute_result"
        }
      ],
      "source": [
        "x_train"
      ]
    },
    {
      "cell_type": "code",
      "execution_count": 15,
      "metadata": {
        "colab": {
          "base_uri": "https://localhost:8080/",
          "height": 363
        },
        "id": "Mf-md93PZKWb",
        "outputId": "47198cbf-2758-4c7c-ac43-c5cf08df1547"
      },
      "outputs": [
        {
          "data": {
            "text/html": [
              "<div>\n",
              "<style scoped>\n",
              "    .dataframe tbody tr th:only-of-type {\n",
              "        vertical-align: middle;\n",
              "    }\n",
              "\n",
              "    .dataframe tbody tr th {\n",
              "        vertical-align: top;\n",
              "    }\n",
              "\n",
              "    .dataframe thead th {\n",
              "        text-align: right;\n",
              "    }\n",
              "</style>\n",
              "<table border=\"1\" class=\"dataframe\">\n",
              "  <thead>\n",
              "    <tr style=\"text-align: right;\">\n",
              "      <th></th>\n",
              "      <th>cgpa</th>\n",
              "      <th>iq</th>\n",
              "    </tr>\n",
              "  </thead>\n",
              "  <tbody>\n",
              "    <tr>\n",
              "      <th>19</th>\n",
              "      <td>5.2</td>\n",
              "      <td>132.0</td>\n",
              "    </tr>\n",
              "    <tr>\n",
              "      <th>11</th>\n",
              "      <td>6.9</td>\n",
              "      <td>138.0</td>\n",
              "    </tr>\n",
              "    <tr>\n",
              "      <th>58</th>\n",
              "      <td>8.0</td>\n",
              "      <td>79.0</td>\n",
              "    </tr>\n",
              "    <tr>\n",
              "      <th>28</th>\n",
              "      <td>5.2</td>\n",
              "      <td>90.0</td>\n",
              "    </tr>\n",
              "    <tr>\n",
              "      <th>20</th>\n",
              "      <td>6.6</td>\n",
              "      <td>120.0</td>\n",
              "    </tr>\n",
              "    <tr>\n",
              "      <th>94</th>\n",
              "      <td>4.7</td>\n",
              "      <td>52.0</td>\n",
              "    </tr>\n",
              "    <tr>\n",
              "      <th>3</th>\n",
              "      <td>7.4</td>\n",
              "      <td>132.0</td>\n",
              "    </tr>\n",
              "    <tr>\n",
              "      <th>60</th>\n",
              "      <td>6.9</td>\n",
              "      <td>139.0</td>\n",
              "    </tr>\n",
              "    <tr>\n",
              "      <th>14</th>\n",
              "      <td>6.1</td>\n",
              "      <td>103.0</td>\n",
              "    </tr>\n",
              "    <tr>\n",
              "      <th>73</th>\n",
              "      <td>4.9</td>\n",
              "      <td>61.0</td>\n",
              "    </tr>\n",
              "  </tbody>\n",
              "</table>\n",
              "</div>"
            ],
            "text/plain": [
              "    cgpa     iq\n",
              "19   5.2  132.0\n",
              "11   6.9  138.0\n",
              "58   8.0   79.0\n",
              "28   5.2   90.0\n",
              "20   6.6  120.0\n",
              "94   4.7   52.0\n",
              "3    7.4  132.0\n",
              "60   6.9  139.0\n",
              "14   6.1  103.0\n",
              "73   4.9   61.0"
            ]
          },
          "execution_count": 15,
          "metadata": {},
          "output_type": "execute_result"
        }
      ],
      "source": [
        "x_test"
      ]
    },
    {
      "cell_type": "code",
      "execution_count": 16,
      "metadata": {
        "colab": {
          "base_uri": "https://localhost:8080/"
        },
        "id": "EHXmsLb0ZOjO",
        "outputId": "ef90d974-e2ec-43de-b688-1168270dad47"
      },
      "outputs": [
        {
          "data": {
            "text/plain": [
              "36    0\n",
              "25    0\n",
              "37    1\n",
              "72    1\n",
              "97    1\n",
              "     ..\n",
              "7     0\n",
              "78    0\n",
              "84    0\n",
              "33    0\n",
              "48    1\n",
              "Name: placement, Length: 90, dtype: int64"
            ]
          },
          "execution_count": 16,
          "metadata": {},
          "output_type": "execute_result"
        }
      ],
      "source": [
        "y_train"
      ]
    },
    {
      "cell_type": "code",
      "execution_count": 17,
      "metadata": {
        "colab": {
          "base_uri": "https://localhost:8080/"
        },
        "id": "1DTGLh0fZT20",
        "outputId": "09f9a06b-a117-4ed5-e628-a06a7cbea356"
      },
      "outputs": [
        {
          "data": {
            "text/plain": [
              "19    0\n",
              "11    1\n",
              "58    1\n",
              "28    0\n",
              "20    1\n",
              "94    0\n",
              "3     1\n",
              "60    1\n",
              "14    0\n",
              "73    0\n",
              "Name: placement, dtype: int64"
            ]
          },
          "execution_count": 17,
          "metadata": {},
          "output_type": "execute_result"
        }
      ],
      "source": [
        "y_test"
      ]
    },
    {
      "cell_type": "code",
      "execution_count": 18,
      "metadata": {
        "id": "Un6uPiCxZU5i"
      },
      "outputs": [],
      "source": [
        "from sklearn.preprocessing import StandardScaler\n",
        "scalar = StandardScaler()"
      ]
    },
    {
      "cell_type": "code",
      "execution_count": 19,
      "metadata": {
        "id": "z73BYzatZigX"
      },
      "outputs": [],
      "source": [
        "x_train = scalar.fit_transform(x_train)"
      ]
    },
    {
      "cell_type": "code",
      "execution_count": 20,
      "metadata": {
        "colab": {
          "base_uri": "https://localhost:8080/"
        },
        "id": "B-_nLe57Zsu2",
        "outputId": "32e01783-25c9-4d14-e9ba-3aa0107dfd7c"
      },
      "outputs": [
        {
          "data": {
            "text/plain": [
              "array([[-0.23555661,  0.35730752],\n",
              "       [-0.8487825 , -0.86608236],\n",
              "       [ 1.86693216,  0.58201179],\n",
              "       [ 1.16610257, -0.24190385],\n",
              "       [ 0.64048038,  1.40592742],\n",
              "       [-0.14795291,  1.00645318],\n",
              "       [ 1.16610257, -1.88973512],\n",
              "       [-1.1991973 ,  0.50711037],\n",
              "       [-2.16283798,  2.67925159],\n",
              "       [-1.1115936 , -0.96595093],\n",
              "       [-1.0239899 ,  0.38227466],\n",
              "       [-0.9363862 ,  1.75546739],\n",
              "       [ 0.02725448, -2.01457083],\n",
              "       [ 0.37766928, -0.24190385],\n",
              "       [ 0.72808407,  0.38227466],\n",
              "       [-0.67357511,  0.88161747],\n",
              "       [ 1.60412106, -0.29183813],\n",
              "       [-1.46200839,  1.85533595],\n",
              "       [ 1.16610257, -0.99091807],\n",
              "       [-0.67357511, -0.39170669],\n",
              "       [-0.58597141, -0.11706815],\n",
              "       [-0.9363862 , -0.14203529],\n",
              "       [ 0.02725448, -0.59144382],\n",
              "       [ 0.81568777, -0.74124666],\n",
              "       [-0.9363862 ,  0.73181463],\n",
              "       [-0.9363862 ,  0.20750468],\n",
              "       [-0.49836771,  0.33234038],\n",
              "       [ 1.34130996,  0.10763612],\n",
              "       [ 0.46527298,  0.10763612],\n",
              "       [ 0.90329147, -0.34177241],\n",
              "       [-0.49836771,  0.23247182],\n",
              "       [ 0.72808407, -0.34177241],\n",
              "       [ 0.02725448, -1.49026088],\n",
              "       [-0.7611788 ,  1.25612458],\n",
              "       [ 0.11485818, -1.51522802],\n",
              "       [-0.9363862 ,  0.63194607],\n",
              "       [ 0.72808407, -0.06713387],\n",
              "       [-0.7611788 , -1.49026088],\n",
              "       [ 0.29006558, -0.56647668],\n",
              "       [-0.7611788 ,  0.05770184],\n",
              "       [ 0.64048038,  0.70684749],\n",
              "       [ 0.11485818,  0.75678177],\n",
              "       [ 0.46527298, -2.21430795],\n",
              "       [ 0.90329147,  0.33234038],\n",
              "       [-1.3744047 ,  0.58201179],\n",
              "       [ 0.99089517,  0.63194607],\n",
              "       [-0.14795291,  0.4072418 ],\n",
              "       [ 2.04213955,  1.05638746],\n",
              "       [-1.72481949, -0.6413781 ],\n",
              "       [ 1.42891366,  0.05770184],\n",
              "       [-0.67357511,  2.45454733],\n",
              "       [ 1.86693216,  1.00645318],\n",
              "       [-1.1115936 , -0.11706815],\n",
              "       [ 0.11485818,  0.1575704 ],\n",
              "       [ 0.29006558,  0.0327347 ],\n",
              "       [ 0.02725448, -0.04216673],\n",
              "       [-1.81242319, -0.41667383],\n",
              "       [-0.49836771, -0.46660811],\n",
              "       [-2.33804538,  1.43089456],\n",
              "       [ 0.90329147,  1.23115744],\n",
              "       [-1.0239899 ,  0.93155175],\n",
              "       [ 0.37766928,  0.38227466],\n",
              "       [-0.23555661,  0.1575704 ],\n",
              "       [-0.06034921, -0.49157526],\n",
              "       [-1.0239899 , -0.34177241],\n",
              "       [-0.58597141, -0.29183813],\n",
              "       [ 0.99089517, -1.93966941],\n",
              "       [ 0.90329147, -1.54019516],\n",
              "       [-0.8487825 , -0.19196957],\n",
              "       [ 0.46527298, -0.8910495 ],\n",
              "       [ 1.34130996, -1.61509658],\n",
              "       [ 0.72808407, -0.8910495 ],\n",
              "       [-1.0239899 ,  1.0813546 ],\n",
              "       [ 0.90329147,  1.83036881],\n",
              "       [ 0.46527298,  0.85665033],\n",
              "       [-1.72481949, -1.26555661],\n",
              "       [-0.49836771, -0.29183813],\n",
              "       [ 2.21734695, -0.14203529],\n",
              "       [ 0.20246188, -0.31680527],\n",
              "       [-0.23555661,  0.43220894],\n",
              "       [ 0.29006558,  0.05770184],\n",
              "       [ 1.42891366, -0.91601664],\n",
              "       [ 1.34130996,  0.80671605],\n",
              "       [-1.3744047 , -2.08947225],\n",
              "       [ 1.16610257,  0.2824061 ],\n",
              "       [-0.8487825 , -1.5651623 ],\n",
              "       [ 0.11485818, -1.11575377],\n",
              "       [-0.23555661,  1.0813546 ],\n",
              "       [ 0.02725448,  0.58201179],\n",
              "       [ 0.55287668,  0.30737324]])"
            ]
          },
          "execution_count": 20,
          "metadata": {},
          "output_type": "execute_result"
        }
      ],
      "source": [
        "x_train"
      ]
    },
    {
      "cell_type": "code",
      "execution_count": 21,
      "metadata": {
        "id": "ZnnUvv0RZvNf"
      },
      "outputs": [],
      "source": [
        "x_test = scalar.transform(x_test)"
      ]
    },
    {
      "cell_type": "code",
      "execution_count": 22,
      "metadata": {
        "colab": {
          "base_uri": "https://localhost:8080/"
        },
        "id": "vCC0Jv2VataH",
        "outputId": "d7eaaba6-34ee-41a5-c866-bb653e1a3b5b"
      },
      "outputs": [
        {
          "data": {
            "text/plain": [
              "array([[-0.67357511,  0.1575704 ],\n",
              "       [ 0.81568777,  0.30737324],\n",
              "       [ 1.77932846, -1.16568805],\n",
              "       [-0.67357511, -0.8910495 ],\n",
              "       [ 0.55287668, -0.14203529],\n",
              "       [-1.1115936 , -1.83980084],\n",
              "       [ 1.25370627,  0.1575704 ],\n",
              "       [ 0.81568777,  0.33234038],\n",
              "       [ 0.11485818, -0.56647668],\n",
              "       [-0.9363862 , -1.61509658]])"
            ]
          },
          "execution_count": 22,
          "metadata": {},
          "output_type": "execute_result"
        }
      ],
      "source": [
        "x_test"
      ]
    },
    {
      "cell_type": "code",
      "execution_count": 23,
      "metadata": {
        "id": "rpZ-xN0aavGs"
      },
      "outputs": [],
      "source": [
        "from sklearn.linear_model import LogisticRegression\n",
        "clf = LogisticRegression()"
      ]
    },
    {
      "cell_type": "code",
      "execution_count": 24,
      "metadata": {
        "colab": {
          "base_uri": "https://localhost:8080/",
          "height": 74
        },
        "id": "HCtB15l6a6Qs",
        "outputId": "769097b6-8e51-4706-dab9-5245d5dd2699"
      },
      "outputs": [
        {
          "data": {
            "text/html": [
              "<style>#sk-container-id-1 {color: black;background-color: white;}#sk-container-id-1 pre{padding: 0;}#sk-container-id-1 div.sk-toggleable {background-color: white;}#sk-container-id-1 label.sk-toggleable__label {cursor: pointer;display: block;width: 100%;margin-bottom: 0;padding: 0.3em;box-sizing: border-box;text-align: center;}#sk-container-id-1 label.sk-toggleable__label-arrow:before {content: \"▸\";float: left;margin-right: 0.25em;color: #696969;}#sk-container-id-1 label.sk-toggleable__label-arrow:hover:before {color: black;}#sk-container-id-1 div.sk-estimator:hover label.sk-toggleable__label-arrow:before {color: black;}#sk-container-id-1 div.sk-toggleable__content {max-height: 0;max-width: 0;overflow: hidden;text-align: left;background-color: #f0f8ff;}#sk-container-id-1 div.sk-toggleable__content pre {margin: 0.2em;color: black;border-radius: 0.25em;background-color: #f0f8ff;}#sk-container-id-1 input.sk-toggleable__control:checked~div.sk-toggleable__content {max-height: 200px;max-width: 100%;overflow: auto;}#sk-container-id-1 input.sk-toggleable__control:checked~label.sk-toggleable__label-arrow:before {content: \"▾\";}#sk-container-id-1 div.sk-estimator input.sk-toggleable__control:checked~label.sk-toggleable__label {background-color: #d4ebff;}#sk-container-id-1 div.sk-label input.sk-toggleable__control:checked~label.sk-toggleable__label {background-color: #d4ebff;}#sk-container-id-1 input.sk-hidden--visually {border: 0;clip: rect(1px 1px 1px 1px);clip: rect(1px, 1px, 1px, 1px);height: 1px;margin: -1px;overflow: hidden;padding: 0;position: absolute;width: 1px;}#sk-container-id-1 div.sk-estimator {font-family: monospace;background-color: #f0f8ff;border: 1px dotted black;border-radius: 0.25em;box-sizing: border-box;margin-bottom: 0.5em;}#sk-container-id-1 div.sk-estimator:hover {background-color: #d4ebff;}#sk-container-id-1 div.sk-parallel-item::after {content: \"\";width: 100%;border-bottom: 1px solid gray;flex-grow: 1;}#sk-container-id-1 div.sk-label:hover label.sk-toggleable__label {background-color: #d4ebff;}#sk-container-id-1 div.sk-serial::before {content: \"\";position: absolute;border-left: 1px solid gray;box-sizing: border-box;top: 0;bottom: 0;left: 50%;z-index: 0;}#sk-container-id-1 div.sk-serial {display: flex;flex-direction: column;align-items: center;background-color: white;padding-right: 0.2em;padding-left: 0.2em;position: relative;}#sk-container-id-1 div.sk-item {position: relative;z-index: 1;}#sk-container-id-1 div.sk-parallel {display: flex;align-items: stretch;justify-content: center;background-color: white;position: relative;}#sk-container-id-1 div.sk-item::before, #sk-container-id-1 div.sk-parallel-item::before {content: \"\";position: absolute;border-left: 1px solid gray;box-sizing: border-box;top: 0;bottom: 0;left: 50%;z-index: -1;}#sk-container-id-1 div.sk-parallel-item {display: flex;flex-direction: column;z-index: 1;position: relative;background-color: white;}#sk-container-id-1 div.sk-parallel-item:first-child::after {align-self: flex-end;width: 50%;}#sk-container-id-1 div.sk-parallel-item:last-child::after {align-self: flex-start;width: 50%;}#sk-container-id-1 div.sk-parallel-item:only-child::after {width: 0;}#sk-container-id-1 div.sk-dashed-wrapped {border: 1px dashed gray;margin: 0 0.4em 0.5em 0.4em;box-sizing: border-box;padding-bottom: 0.4em;background-color: white;}#sk-container-id-1 div.sk-label label {font-family: monospace;font-weight: bold;display: inline-block;line-height: 1.2em;}#sk-container-id-1 div.sk-label-container {text-align: center;}#sk-container-id-1 div.sk-container {/* jupyter's `normalize.less` sets `[hidden] { display: none; }` but bootstrap.min.css set `[hidden] { display: none !important; }` so we also need the `!important` here to be able to override the default hidden behavior on the sphinx rendered scikit-learn.org. See: https://github.com/scikit-learn/scikit-learn/issues/21755 */display: inline-block !important;position: relative;}#sk-container-id-1 div.sk-text-repr-fallback {display: none;}</style><div id=\"sk-container-id-1\" class=\"sk-top-container\"><div class=\"sk-text-repr-fallback\"><pre>LogisticRegression()</pre><b>In a Jupyter environment, please rerun this cell to show the HTML representation or trust the notebook. <br />On GitHub, the HTML representation is unable to render, please try loading this page with nbviewer.org.</b></div><div class=\"sk-container\" hidden><div class=\"sk-item\"><div class=\"sk-estimator sk-toggleable\"><input class=\"sk-toggleable__control sk-hidden--visually\" id=\"sk-estimator-id-1\" type=\"checkbox\" checked><label for=\"sk-estimator-id-1\" class=\"sk-toggleable__label sk-toggleable__label-arrow\">LogisticRegression</label><div class=\"sk-toggleable__content\"><pre>LogisticRegression()</pre></div></div></div></div></div>"
            ],
            "text/plain": [
              "LogisticRegression()"
            ]
          },
          "execution_count": 24,
          "metadata": {},
          "output_type": "execute_result"
        }
      ],
      "source": [
        "clf.fit(x_train,y_train)"
      ]
    },
    {
      "cell_type": "code",
      "execution_count": 25,
      "metadata": {
        "id": "w7vaR91HbBZG"
      },
      "outputs": [],
      "source": [
        "y_pred = clf.predict(x_test)"
      ]
    },
    {
      "cell_type": "code",
      "execution_count": 26,
      "metadata": {
        "colab": {
          "base_uri": "https://localhost:8080/"
        },
        "id": "1Kh7KG9gbfcI",
        "outputId": "1ff27a75-fe54-4dd7-b461-31554940dc70"
      },
      "outputs": [
        {
          "data": {
            "text/plain": [
              "array([0, 1, 1, 0, 1, 0, 1, 1, 1, 0], dtype=int64)"
            ]
          },
          "execution_count": 26,
          "metadata": {},
          "output_type": "execute_result"
        }
      ],
      "source": [
        "y_pred"
      ]
    },
    {
      "cell_type": "code",
      "execution_count": 27,
      "metadata": {
        "colab": {
          "base_uri": "https://localhost:8080/"
        },
        "id": "nYayCP6LbH6D",
        "outputId": "bc5c0b81-bd7d-4c9b-dd65-5436077704d9"
      },
      "outputs": [
        {
          "data": {
            "text/plain": [
              "19    0\n",
              "11    1\n",
              "58    1\n",
              "28    0\n",
              "20    1\n",
              "94    0\n",
              "3     1\n",
              "60    1\n",
              "14    0\n",
              "73    0\n",
              "Name: placement, dtype: int64"
            ]
          },
          "execution_count": 27,
          "metadata": {},
          "output_type": "execute_result"
        }
      ],
      "source": [
        "y_test"
      ]
    },
    {
      "cell_type": "code",
      "execution_count": 28,
      "metadata": {
        "id": "T6E11AIvbJnq"
      },
      "outputs": [],
      "source": [
        "from sklearn.metrics import accuracy_score"
      ]
    },
    {
      "cell_type": "code",
      "execution_count": 29,
      "metadata": {
        "colab": {
          "base_uri": "https://localhost:8080/"
        },
        "id": "QII2paBQbUon",
        "outputId": "408686cd-df2d-4ff2-dc15-530bff26b18d"
      },
      "outputs": [
        {
          "data": {
            "text/plain": [
              "0.9"
            ]
          },
          "execution_count": 29,
          "metadata": {},
          "output_type": "execute_result"
        }
      ],
      "source": [
        "accuracy_score(y_test,y_pred)"
      ]
    },
    {
      "cell_type": "code",
      "execution_count": 30,
      "metadata": {
        "colab": {
          "base_uri": "https://localhost:8080/"
        },
        "id": "w4PnzRDpb6J4",
        "outputId": "3c0a87fc-f0b8-403b-bf23-62d17563104c"
      },
      "outputs": [
        {
          "name": "stdout",
          "output_type": "stream",
          "text": [
            "Defaulting to user installation because normal site-packages is not writeable\n",
            "Collecting mlxtend\n",
            "  Downloading mlxtend-0.22.0-py2.py3-none-any.whl (1.4 MB)\n",
            "                                              0.0/1.4 MB ? eta -:--:--\n",
            "                                              0.0/1.4 MB 1.4 MB/s eta 0:00:01\n",
            "     --                                       0.1/1.4 MB 880.9 kB/s eta 0:00:02\n",
            "     ---                                      0.1/1.4 MB 901.1 kB/s eta 0:00:02\n",
            "     ------                                   0.2/1.4 MB 1.3 MB/s eta 0:00:01\n",
            "     --------                                 0.3/1.4 MB 1.2 MB/s eta 0:00:01\n",
            "     -----------                              0.4/1.4 MB 1.4 MB/s eta 0:00:01\n",
            "     ----------------                         0.6/1.4 MB 1.7 MB/s eta 0:00:01\n",
            "     -------------------                      0.6/1.4 MB 1.7 MB/s eta 0:00:01\n",
            "     -----------------------                  0.8/1.4 MB 1.9 MB/s eta 0:00:01\n",
            "     --------------------------               0.9/1.4 MB 1.9 MB/s eta 0:00:01\n",
            "     ------------------------------           1.0/1.4 MB 2.0 MB/s eta 0:00:01\n",
            "     ---------------------------------        1.1/1.4 MB 2.1 MB/s eta 0:00:01\n",
            "     -------------------------------------    1.3/1.4 MB 2.1 MB/s eta 0:00:01\n",
            "     ---------------------------------------- 1.4/1.4 MB 2.1 MB/s eta 0:00:00\n",
            "Requirement already satisfied: scipy>=1.2.1 in c:\\users\\pradeep patel\\appdata\\roaming\\python\\python311\\site-packages (from mlxtend) (1.10.1)\n",
            "Requirement already satisfied: numpy>=1.16.2 in c:\\users\\pradeep patel\\appdata\\roaming\\python\\python311\\site-packages (from mlxtend) (1.24.2)\n",
            "Requirement already satisfied: pandas>=0.24.2 in c:\\users\\pradeep patel\\appdata\\roaming\\python\\python311\\site-packages (from mlxtend) (1.5.3)\n",
            "Requirement already satisfied: scikit-learn>=1.0.2 in c:\\users\\pradeep patel\\appdata\\roaming\\python\\python311\\site-packages (from mlxtend) (1.2.2)\n",
            "Requirement already satisfied: matplotlib>=3.0.0 in c:\\users\\pradeep patel\\appdata\\roaming\\python\\python311\\site-packages (from mlxtend) (3.7.1)\n",
            "Requirement already satisfied: joblib>=0.13.2 in c:\\users\\pradeep patel\\appdata\\roaming\\python\\python311\\site-packages (from mlxtend) (1.2.0)\n",
            "Requirement already satisfied: setuptools in c:\\program files\\python311\\lib\\site-packages (from mlxtend) (65.5.0)\n",
            "Requirement already satisfied: contourpy>=1.0.1 in c:\\users\\pradeep patel\\appdata\\roaming\\python\\python311\\site-packages (from matplotlib>=3.0.0->mlxtend) (1.0.7)\n",
            "Requirement already satisfied: cycler>=0.10 in c:\\users\\pradeep patel\\appdata\\roaming\\python\\python311\\site-packages (from matplotlib>=3.0.0->mlxtend) (0.11.0)\n",
            "Requirement already satisfied: fonttools>=4.22.0 in c:\\users\\pradeep patel\\appdata\\roaming\\python\\python311\\site-packages (from matplotlib>=3.0.0->mlxtend) (4.39.2)\n",
            "Requirement already satisfied: kiwisolver>=1.0.1 in c:\\users\\pradeep patel\\appdata\\roaming\\python\\python311\\site-packages (from matplotlib>=3.0.0->mlxtend) (1.4.4)\n",
            "Requirement already satisfied: packaging>=20.0 in c:\\users\\pradeep patel\\appdata\\roaming\\python\\python311\\site-packages (from matplotlib>=3.0.0->mlxtend) (23.0)\n",
            "Requirement already satisfied: pillow>=6.2.0 in c:\\users\\pradeep patel\\appdata\\roaming\\python\\python311\\site-packages (from matplotlib>=3.0.0->mlxtend) (9.4.0)\n",
            "Requirement already satisfied: pyparsing>=2.3.1 in c:\\users\\pradeep patel\\appdata\\roaming\\python\\python311\\site-packages (from matplotlib>=3.0.0->mlxtend) (3.0.9)\n",
            "Requirement already satisfied: python-dateutil>=2.7 in c:\\users\\pradeep patel\\appdata\\roaming\\python\\python311\\site-packages (from matplotlib>=3.0.0->mlxtend) (2.8.2)\n",
            "Requirement already satisfied: pytz>=2020.1 in c:\\users\\pradeep patel\\appdata\\roaming\\python\\python311\\site-packages (from pandas>=0.24.2->mlxtend) (2022.7.1)\n",
            "Requirement already satisfied: threadpoolctl>=2.0.0 in c:\\users\\pradeep patel\\appdata\\roaming\\python\\python311\\site-packages (from scikit-learn>=1.0.2->mlxtend) (3.1.0)\n",
            "Requirement already satisfied: six>=1.5 in c:\\users\\pradeep patel\\appdata\\roaming\\python\\python311\\site-packages (from python-dateutil>=2.7->matplotlib>=3.0.0->mlxtend) (1.16.0)\n",
            "Installing collected packages: mlxtend\n",
            "Successfully installed mlxtend-0.22.0\n"
          ]
        }
      ],
      "source": [
        "!pip install mlxtend "
      ]
    },
    {
      "cell_type": "code",
      "execution_count": 31,
      "metadata": {
        "colab": {
          "base_uri": "https://localhost:8080/"
        },
        "id": "SdBQJzT3JqVs",
        "outputId": "71f5c509-ee70-43f7-bac0-ac4b7bc22f20"
      },
      "outputs": [
        {
          "name": "stdout",
          "output_type": "stream",
          "text": [
            "Defaulting to user installation because normal site-packages is not writeable\n",
            "Requirement already satisfied: mlxtend in c:\\users\\pradeep patel\\appdata\\roaming\\python\\python311\\site-packages (0.22.0)\n"
          ]
        }
      ],
      "source": [
        "!pip install mlxtend --upgrade --no-deps"
      ]
    },
    {
      "cell_type": "code",
      "execution_count": 32,
      "metadata": {
        "id": "IOtT4YEibjOz"
      },
      "outputs": [],
      "source": [
        "from mlxtend.plotting import plot_decision_regions"
      ]
    },
    {
      "cell_type": "code",
      "execution_count": 33,
      "metadata": {
        "colab": {
          "base_uri": "https://localhost:8080/",
          "height": 447
        },
        "id": "_mJl6AfHb4-4",
        "outputId": "a84b13f6-05ed-4b59-a209-8b60205cbf40"
      },
      "outputs": [
        {
          "data": {
            "text/plain": [
              "<Axes: >"
            ]
          },
          "execution_count": 33,
          "metadata": {},
          "output_type": "execute_result"
        },
        {
          "data": {
            "image/png": "[encoded data removed]",
            "text/plain": [
              "<Figure size 640x480 with 1 Axes>"
            ]
          },
          "metadata": {},
          "output_type": "display_data"
        }
      ],
      "source": [
        "plot_decision_regions(x_train, y_train.values, clf=clf, legend=2)"
      ]
    },
    {
      "cell_type": "code",
      "execution_count": 34,
      "metadata": {
        "id": "6IkGNjSbqMVu"
      },
      "outputs": [],
      "source": [
        "import pickle"
      ]
    },
    {
      "cell_type": "code",
      "execution_count": 35,
      "metadata": {
        "id": "xJbhwt6YqRl5"
      },
      "outputs": [],
      "source": [
        "pickle.dump(clf, open('MODEL.pkl','wb'))"
      ]
    }
  ],
  "metadata": {
    "colab": {
      "provenance": []
    },
    "kernelspec": {
      "display_name": "Python 3",
      "name": "python3"
    },
    "language_info": {
      "codemirror_mode": {
        "name": "ipython",
        "version": 3
      },
      "file_extension": ".py",
      "mimetype": "text/x-python",
      "name": "python",
      "nbconvert_exporter": "python",
      "pygments_lexer": "ipython3",
      "version": "3.11.2"
    }
  },
  "nbformat": 4,
  "nbformat_minor": 0
}
